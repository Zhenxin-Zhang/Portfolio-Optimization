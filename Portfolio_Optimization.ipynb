{
  "nbformat": 4,
  "nbformat_minor": 0,
  "metadata": {
    "colab": {
      "provenance": []
    },
    "kernelspec": {
      "name": "python3",
      "display_name": "Python 3"
    },
    "language_info": {
      "name": "python"
    }
  },
  "cells": [
    {
      "cell_type": "code",
      "execution_count": null,
      "metadata": {
        "id": "No-Sv5MmpHoT"
      },
      "outputs": [],
      "source": [
        "import pandas as pd\n",
        "import numpy as np\n",
        "import matplotlib.pyplot as plt\n",
        "import scipy.optimize as sci_opt\n",
        "import yfinance as yf\n",
        "\n",
        "from pprint import pprint\n",
        "from sklearn.preprocessing import StandardScaler"
      ]
    },
    {
      "cell_type": "code",
      "source": [
        "# Hyperparamter\n",
        "# Define the assets\n",
        "assets = ['AAPL', 'DIS', 'GC=F', 'META']\n",
        "number_of_stocks = len(assets)\n",
        "\n",
        "# Define start date\n",
        "start_date = '2015-01-01'"
      ],
      "metadata": {
        "id": "J2XqsMc-pPXr"
      },
      "execution_count": null,
      "outputs": []
    },
    {
      "cell_type": "code",
      "source": [
        "# Fetch the data\n",
        "data = yf.download(assets, start_date)['Adj Close']\n",
        "data = round(data,3)\n",
        "\n",
        "# Print first 5 rows of the data\n",
        "print(data.head())\n",
        "print(type(data))"
      ],
      "metadata": {
        "colab": {
          "base_uri": "https://localhost:8080/"
        },
        "id": "8VapJIJTpTW0",
        "outputId": "a1e91b42-844f-453b-abd3-b3027a004540"
      },
      "execution_count": null,
      "outputs": [
        {
          "output_type": "stream",
          "name": "stdout",
          "text": [
            "[*********************100%***********************]  4 of 4 completed\n",
            "              AAPL     DIS    GC=F   META\n",
            "Date                                     \n",
            "2015-01-02  24.566  87.376  1186.0  78.45\n",
            "2015-01-05  23.874  86.099  1203.9  77.19\n",
            "2015-01-06  23.876  85.643  1219.3  76.15\n",
            "2015-01-07  24.211  86.519  1210.6  76.15\n",
            "2015-01-08  25.141  87.414  1208.4  78.18\n",
            "<class 'pandas.core.frame.DataFrame'>\n"
          ]
        }
      ]
    },
    {
      "cell_type": "code",
      "source": [
        "%matplotlib inline\n",
        "\n",
        "(data[assets]).plot()\n",
        "\n",
        "plt.title('Historical Stock Prices')\n",
        "plt.xlabel('Date')\n",
        "plt.ylabel('Stock Price')\n",
        "\n",
        "plt.show()"
      ],
      "metadata": {
        "colab": {
          "base_uri": "https://localhost:8080/",
          "height": 285
        },
        "id": "sc1wndaoXC0K",
        "outputId": "2e76bced-681b-4248-9bad-86c0795455d9"
      },
      "execution_count": null,
      "outputs": [
        {
          "output_type": "display_data",
          "data": {
            "text/plain": [
              "<Figure size 432x288 with 1 Axes>"
            ],
            "image/png": "[encoded data removed]"
          },
          "metadata": {
            "needs_background": "light"
          }
        }
      ]
    },
    {
      "cell_type": "code",
      "source": [
        "def get_sharp_ratio(data, weights):\n",
        "  # Calculate the Log of returns.\n",
        "  log_return = np.log(data / data.shift(1))\n",
        "\n",
        "  # Calculate the Annualized Expected Returns\n",
        "  NUM_OF_DAYS = 252\n",
        "  exp_return = np.dot(weights, log_return.mean() * NUM_OF_DAYS)\n",
        "\n",
        "  # Calculate the Annualized Expected Volatility\n",
        "  exp_vol = np.sqrt(np.dot(weights.T, np.dot(log_return.cov() * 252, weights)))\n",
        "\n",
        "  # Calculate the Sharpe Ratio\n",
        "  sharpe_ratio = exp_return / exp_vol\n",
        "\n",
        "  return (exp_return, exp_vol, sharpe_ratio)"
      ],
      "metadata": {
        "id": "9C6ItG7Xpeaa"
      },
      "execution_count": null,
      "outputs": []
    },
    {
      "cell_type": "code",
      "source": [
        "def get_random_weights(number_of_stocks):\n",
        "  # Generate Random Weights.\n",
        "  random_weights = np.array(np.random.random(number_of_stocks))\n",
        "\n",
        "  # Make sure weights sum up to 1\n",
        "  init_weights = random_weights / np.sum(random_weights)\n",
        "  return init_weights"
      ],
      "metadata": {
        "id": "OxhIPyK5pvQZ"
      },
      "execution_count": null,
      "outputs": []
    },
    {
      "cell_type": "code",
      "source": [
        "def monte_carlo_simulations(data, num_of_iter):\n",
        "  # Initialization\n",
        "  all_weights = np.zeros((num_of_iter, number_of_stocks))\n",
        "  return_arr = np.zeros(num_of_iter)\n",
        "  vol_arr = np.zeros(num_of_iter)\n",
        "  sharpe_arr = np.zeros(num_of_iter)\n",
        "\n",
        "  # Simulations\n",
        "  for i in range(num_of_iter):\n",
        "    weights = get_random_weights(number_of_stocks)\n",
        "    all_weights[i, :] = weights\n",
        "\n",
        "    exp_return, exp_vol, sharpe_ratio = get_sharp_ratio(data, weights)\n",
        "    return_arr[i] = exp_return\n",
        "    vol_arr[i] = exp_vol\n",
        "    sharpe_arr[i] = sharpe_ratio\n",
        "  \n",
        "\n",
        "  simulations_data = [return_arr, vol_arr, sharpe_arr, all_weights]\n",
        "  simulations_df = pd.DataFrame(data=simulations_data).T\n",
        "\n",
        "  simulations_df.columns = [\n",
        "    'Returns',\n",
        "    'Volatility',\n",
        "    'Sharpe Ratio',\n",
        "    'Portfolio Weights'\n",
        "  ]\n",
        "\n",
        "  simulations_df = simulations_df.infer_objects()\n",
        "  return simulations_df"
      ],
      "metadata": {
        "id": "wLX-bPCxp8I_"
      },
      "execution_count": null,
      "outputs": []
    },
    {
      "cell_type": "code",
      "source": [
        "np.random.seed(42)\n",
        "\n",
        "simulations_df = monte_carlo_simulations(data, 1000)\n",
        "simulations_df.head()"
      ],
      "metadata": {
        "colab": {
          "base_uri": "https://localhost:8080/",
          "height": 206
        },
        "id": "vPa54Lctq0PN",
        "outputId": "c14dc96b-e37b-4895-9a9b-663d52512b9f"
      },
      "execution_count": null,
      "outputs": [
        {
          "output_type": "execute_result",
          "data": {
            "text/plain": [
              "    Returns  Volatility  Sharpe Ratio  \\\n",
              "0  0.082241    0.190196      0.432402   \n",
              "1  0.118065    0.310385      0.380383   \n",
              "2  0.115325    0.267473      0.431163   \n",
              "3  0.162297    0.232573      0.697831   \n",
              "4  0.090332    0.186552      0.484218   \n",
              "\n",
              "                                   Portfolio Weights  \n",
              "0  [0.1410215567872302, 0.3579622176722185, 0.275...  \n",
              "1  [0.12620080734580005, 0.12618129700478345, 0.0...  \n",
              "2  [0.26139050028350513, 0.3079002216404562, 0.00...  \n",
              "3  [0.5903801501374071, 0.15059391470113248, 0.12...  \n",
              "4  [0.1960105449641472, 0.33807860847040766, 0.27...  "
            ],
            "text/html": [
              "\n",
              "  <div id=\"df-eaca8464-6825-435c-b1e9-1e0134128690\">\n",
              "    <div class=\"colab-df-container\">\n",
              "      <div>\n",
              "<style scoped>\n",
              "    .dataframe tbody tr th:only-of-type {\n",
              "        vertical-align: middle;\n",
              "    }\n",
              "\n",
              "    .dataframe tbody tr th {\n",
              "        vertical-align: top;\n",
              "    }\n",
              "\n",
              "    .dataframe thead th {\n",
              "        text-align: right;\n",
              "    }\n",
              "</style>\n",
              "<table border=\"1\" class=\"dataframe\">\n",
              "  <thead>\n",
              "    <tr style=\"text-align: right;\">\n",
              "      <th></th>\n",
              "      <th>Returns</th>\n",
              "      <th>Volatility</th>\n",
              "      <th>Sharpe Ratio</th>\n",
              "      <th>Portfolio Weights</th>\n",
              "    </tr>\n",
              "  </thead>\n",
              "  <tbody>\n",
              "    <tr>\n",
              "      <th>0</th>\n",
              "      <td>0.082241</td>\n",
              "      <td>0.190196</td>\n",
              "      <td>0.432402</td>\n",
              "      <td>[0.1410215567872302, 0.3579622176722185, 0.275...</td>\n",
              "    </tr>\n",
              "    <tr>\n",
              "      <th>1</th>\n",
              "      <td>0.118065</td>\n",
              "      <td>0.310385</td>\n",
              "      <td>0.380383</td>\n",
              "      <td>[0.12620080734580005, 0.12618129700478345, 0.0...</td>\n",
              "    </tr>\n",
              "    <tr>\n",
              "      <th>2</th>\n",
              "      <td>0.115325</td>\n",
              "      <td>0.267473</td>\n",
              "      <td>0.431163</td>\n",
              "      <td>[0.26139050028350513, 0.3079002216404562, 0.00...</td>\n",
              "    </tr>\n",
              "    <tr>\n",
              "      <th>3</th>\n",
              "      <td>0.162297</td>\n",
              "      <td>0.232573</td>\n",
              "      <td>0.697831</td>\n",
              "      <td>[0.5903801501374071, 0.15059391470113248, 0.12...</td>\n",
              "    </tr>\n",
              "    <tr>\n",
              "      <th>4</th>\n",
              "      <td>0.090332</td>\n",
              "      <td>0.186552</td>\n",
              "      <td>0.484218</td>\n",
              "      <td>[0.1960105449641472, 0.33807860847040766, 0.27...</td>\n",
              "    </tr>\n",
              "  </tbody>\n",
              "</table>\n",
              "</div>\n",
              "      <button class=\"colab-df-convert\" onclick=\"convertToInteractive('df-eaca8464-6825-435c-b1e9-1e0134128690')\"\n",
              "              title=\"Convert this dataframe to an interactive table.\"\n",
              "              style=\"display:none;\">\n",
              "        \n",
              "  <svg xmlns=\"http://www.w3.org/2000/svg\" height=\"24px\"viewBox=\"0 0 24 24\"\n",
              "       width=\"24px\">\n",
              "    <path d=\"M0 0h24v24H0V0z\" fill=\"none\"/>\n",
              "    <path d=\"M18.56 5.44l.94 2.06.94-2.06 2.06-.94-2.06-.94-.94-2.06-.94 2.06-2.06.94zm-11 1L8.5 8.5l.94-2.06 2.06-.94-2.06-.94L8.5 2.5l-.94 2.06-2.06.94zm10 10l.94 2.06.94-2.06 2.06-.94-2.06-.94-.94-2.06-.94 2.06-2.06.94z\"/><path d=\"M17.41 7.96l-1.37-1.37c-.4-.4-.92-.59-1.43-.59-.52 0-1.04.2-1.43.59L10.3 9.45l-7.72 7.72c-.78.78-.78 2.05 0 2.83L4 21.41c.39.39.9.59 1.41.59.51 0 1.02-.2 1.41-.59l7.78-7.78 2.81-2.81c.8-.78.8-2.07 0-2.86zM5.41 20L4 18.59l7.72-7.72 1.47 1.35L5.41 20z\"/>\n",
              "  </svg>\n",
              "      </button>\n",
              "      \n",
              "  <style>\n",
              "    .colab-df-container {\n",
              "      display:flex;\n",
              "      flex-wrap:wrap;\n",
              "      gap: 12px;\n",
              "    }\n",
              "\n",
              "    .colab-df-convert {\n",
              "      background-color: #E8F0FE;\n",
              "      border: none;\n",
              "      border-radius: 50%;\n",
              "      cursor: pointer;\n",
              "      display: none;\n",
              "      fill: #1967D2;\n",
              "      height: 32px;\n",
              "      padding: 0 0 0 0;\n",
              "      width: 32px;\n",
              "    }\n",
              "\n",
              "    .colab-df-convert:hover {\n",
              "      background-color: #E2EBFA;\n",
              "      box-shadow: 0px 1px 2px rgba(60, 64, 67, 0.3), 0px 1px 3px 1px rgba(60, 64, 67, 0.15);\n",
              "      fill: #174EA6;\n",
              "    }\n",
              "\n",
              "    [theme=dark] .colab-df-convert {\n",
              "      background-color: #3B4455;\n",
              "      fill: #D2E3FC;\n",
              "    }\n",
              "\n",
              "    [theme=dark] .colab-df-convert:hover {\n",
              "      background-color: #434B5C;\n",
              "      box-shadow: 0px 1px 3px 1px rgba(0, 0, 0, 0.15);\n",
              "      filter: drop-shadow(0px 1px 2px rgba(0, 0, 0, 0.3));\n",
              "      fill: #FFFFFF;\n",
              "    }\n",
              "  </style>\n",
              "\n",
              "      <script>\n",
              "        const buttonEl =\n",
              "          document.querySelector('#df-eaca8464-6825-435c-b1e9-1e0134128690 button.colab-df-convert');\n",
              "        buttonEl.style.display =\n",
              "          google.colab.kernel.accessAllowed ? 'block' : 'none';\n",
              "\n",
              "        async function convertToInteractive(key) {\n",
              "          const element = document.querySelector('#df-eaca8464-6825-435c-b1e9-1e0134128690');\n",
              "          const dataTable =\n",
              "            await google.colab.kernel.invokeFunction('convertToInteractive',\n",
              "                                                     [key], {});\n",
              "          if (!dataTable) return;\n",
              "\n",
              "          const docLinkHtml = 'Like what you see? Visit the ' +\n",
              "            '<a target=\"_blank\" href=https://colab.research.google.com/notebooks/data_table.ipynb>data table notebook</a>'\n",
              "            + ' to learn more about interactive tables.';\n",
              "          element.innerHTML = '';\n",
              "          dataTable['output_type'] = 'display_data';\n",
              "          await google.colab.output.renderOutput(dataTable, element);\n",
              "          const docLink = document.createElement('div');\n",
              "          docLink.innerHTML = docLinkHtml;\n",
              "          element.appendChild(docLink);\n",
              "        }\n",
              "      </script>\n",
              "    </div>\n",
              "  </div>\n",
              "  "
            ]
          },
          "metadata": {},
          "execution_count": 8
        }
      ]
    },
    {
      "cell_type": "code",
      "source": [
        "def get_max_sharpe_ratio(df):\n",
        "  return df.loc[df['Sharpe Ratio'].idxmax()]\n",
        "\n",
        "def get_min_volatility(df):\n",
        "  return df.loc[df['Volatility'].idxmin()]\n",
        "\n",
        "print(get_max_sharpe_ratio(simulations_df))\n",
        "print(get_min_volatility(simulations_df))"
      ],
      "metadata": {
        "colab": {
          "base_uri": "https://localhost:8080/"
        },
        "id": "cpRUlkuIrnoz",
        "outputId": "8ce55af4-03c4-4315-fb60-5819eac5acdb"
      },
      "execution_count": null,
      "outputs": [
        {
          "output_type": "stream",
          "name": "stdout",
          "text": [
            "Returns                                                       0.134895\n",
            "Volatility                                                    0.154053\n",
            "Sharpe Ratio                                                   0.87564\n",
            "Portfolio Weights    [0.4087945008923314, 0.0038573348687276202, 0....\n",
            "Name: 475, dtype: object\n",
            "Returns                                                        0.07159\n",
            "Volatility                                                    0.130812\n",
            "Sharpe Ratio                                                   0.54727\n",
            "Portfolio Weights    [0.07641406836395452, 0.2075987639640013, 0.64...\n",
            "Name: 283, dtype: object\n"
          ]
        }
      ]
    },
    {
      "cell_type": "code",
      "source": [
        "# This is so I can see the plot inside of my Jupyter Notebook.\n",
        "%matplotlib inline\n",
        "\n",
        "# Plot the data on a Scatter plot.\n",
        "plt.scatter(\n",
        "    y=simulations_df['Returns'],\n",
        "    x=simulations_df['Volatility'],\n",
        "    c=simulations_df['Sharpe Ratio'],\n",
        "    cmap='RdYlBu'\n",
        ")\n",
        "\n",
        "# Give the Plot some labels, and titles.\n",
        "plt.title('Portfolio Returns Vs. Risk')\n",
        "plt.colorbar(label='Sharpe Ratio')\n",
        "plt.xlabel('Standard Deviation')\n",
        "plt.ylabel('Returns')\n",
        "\n",
        "# Finally, show the plot.\n",
        "plt.show()"
      ],
      "metadata": {
        "colab": {
          "base_uri": "https://localhost:8080/",
          "height": 295
        },
        "id": "fV1kQK6ksN0W",
        "outputId": "cd88cfd1-d485-46f6-f5c5-4f2d6ae1c198"
      },
      "execution_count": null,
      "outputs": [
        {
          "output_type": "display_data",
          "data": {
            "text/plain": [
              "<Figure size 432x288 with 2 Axes>"
            ],
            "image/png": "[encoded data removed]"
          },
          "metadata": {
            "needs_background": "light"
          }
        }
      ]
    },
    {
      "cell_type": "markdown",
      "source": [
        "# Maximize Sharpe Ratio"
      ],
      "metadata": {
        "id": "ct0ElIUQjHhM"
      }
    },
    {
      "cell_type": "code",
      "source": [
        "constraints = ({'type' : 'eq', 'fun': lambda x: np.sum(x) -1})\n",
        "bounds = tuple((0,1) for x in range(number_of_stocks))\n",
        "initializer = number_of_stocks * [1./number_of_stocks,]\n",
        "\n",
        "print (initializer)\n",
        "print (bounds)"
      ],
      "metadata": {
        "colab": {
          "base_uri": "https://localhost:8080/"
        },
        "id": "Ih1lboBtjMp0",
        "outputId": "4852fd80-4f82-41d5-bdde-c40d0c849ff6"
      },
      "execution_count": null,
      "outputs": [
        {
          "output_type": "stream",
          "name": "stdout",
          "text": [
            "[0.25, 0.25, 0.25, 0.25]\n",
            "((0, 1), (0, 1), (0, 1), (0, 1))\n"
          ]
        }
      ]
    },
    {
      "cell_type": "code",
      "source": [
        "def minimize_sharpe(weights):  \n",
        "    return -get_sharp_ratio(data, weights)[2]\n",
        "\n",
        "def minimize_volatility(weights):  \n",
        "    return get_sharp_ratio(data, weights)[1]"
      ],
      "metadata": {
        "id": "nt1o9ahSnTKm"
      },
      "execution_count": null,
      "outputs": []
    },
    {
      "cell_type": "code",
      "source": [
        "import scipy.optimize as optimize\n",
        "\n",
        "optimal_sharpe = optimize.minimize(minimize_sharpe,\n",
        "                                 initializer,\n",
        "                                 method = 'SLSQP',\n",
        "                                 bounds = bounds,\n",
        "                                 constraints = constraints)\n",
        "print(\"max sharpe ratio\", get_sharp_ratio(data, optimal_sharpe.x)[2])\n",
        "print(\"expected return\", get_sharp_ratio(data, optimal_sharpe.x)[0])\n",
        "print(\"optimal weight for max sharpe ratio:\", optimal_sharpe.x)\n",
        "print(\"max sharpe ratio derived from monte carlo simulation:\", get_max_sharpe_ratio(simulations_df)[\"Sharpe Ratio\"])"
      ],
      "metadata": {
        "colab": {
          "base_uri": "https://localhost:8080/"
        },
        "id": "h1EX6Vq2mu8b",
        "outputId": "75058933-cbdc-476e-acaf-605c6bdb2e64"
      },
      "execution_count": null,
      "outputs": [
        {
          "output_type": "stream",
          "name": "stdout",
          "text": [
            "max sharpe ratio 0.8883120639152506\n",
            "expected return 0.14312363124508606\n",
            "optimal weight for max sharpe ratio: [4.66118449e-01 1.68196804e-16 5.33881551e-01 0.00000000e+00]\n",
            "max sharpe ratio derived from monte carlo simulation: 0.875640010510749\n"
          ]
        }
      ]
    },
    {
      "cell_type": "code",
      "source": [
        "optimal_volatility = optimize.minimize(minimize_volatility,\n",
        "                                 initializer,\n",
        "                                 method = 'SLSQP',\n",
        "                                 bounds = bounds,\n",
        "                                 constraints = constraints)\n",
        "\n",
        "print(\"min volatility\", get_sharp_ratio(data, optimal_volatility.x)[1])\n",
        "print(\"expected return\", get_sharp_ratio(data, optimal_volatility.x)[0])\n",
        "print(\"optimal weight for min volatility:\", optimal_volatility.x)\n",
        "print(\"min volatility derived from monte carlo simulation:\", get_min_volatility(simulations_df)[\"Volatility\"])"
      ],
      "metadata": {
        "colab": {
          "base_uri": "https://localhost:8080/"
        },
        "id": "icwbV2oTqr0Z",
        "outputId": "f5ade9aa-e960-492e-b5d8-8e7051f01b7a"
      },
      "execution_count": null,
      "outputs": [
        {
          "output_type": "stream",
          "name": "stdout",
          "text": [
            "min volatility 0.12719775171849526\n",
            "expected return 0.07555356325785158\n",
            "optimal weight for min volatility: [0.09654898 0.14624177 0.73566611 0.02154314]\n",
            "min volatility derived from monte carlo simulation: 0.13081225471627683\n"
          ]
        }
      ]
    },
    {
      "cell_type": "code",
      "source": [
        "def get_percentage_increase(cur_rate):\n",
        "  BASELINE_RATE = 0.0457\n",
        "  return round((cur_rate - BASELINE_RATE) / BASELINE_RATE, 3) * 100"
      ],
      "metadata": {
        "id": "5Nq2AHvRvIgL"
      },
      "execution_count": null,
      "outputs": []
    },
    {
      "cell_type": "code",
      "source": [
        "print(\"Expected Return rate of Maximum Sharpe Ratio compared to baseline rate\", get_percentage_increase(0.14312363124508606), \"%\")\n",
        "print(\"Expected Return rate of Minimum Volatility compared to baseline rate\", get_percentage_increase(0.07555356325785158), \"%\")"
      ],
      "metadata": {
        "colab": {
          "base_uri": "https://localhost:8080/"
        },
        "id": "4BG1n2cUvdWH",
        "outputId": "ca49d597-bc0d-4812-c506-03e7b1f112e2"
      },
      "execution_count": null,
      "outputs": [
        {
          "output_type": "stream",
          "name": "stdout",
          "text": [
            "Expected Return rate of Maximum Sharpe Ratio compared to baseline rate 213.20000000000002 %\n",
            "Expected Return rate of Minimum Volatility compared to baseline rate 65.3 %\n"
          ]
        }
      ]
    },
    {
      "cell_type": "markdown",
      "source": [
        "#Conclusion\n",
        "\n",
        "Compare to the Risk-Free Rate of Return, (3 Month Treasury Bill Rate -- 4.57%):\n",
        "\n",
        "*   Expected Return rate of Maximum Sharpe Ratio -- 14.3% (increased 213%)\n",
        "*   Expected Return rate of Minimum Volatility -- 7.55% (increased 65.3%)\n",
        "\n"
      ],
      "metadata": {
        "id": "KJPR9502ty3N"
      }
    },
    {
      "cell_type": "markdown",
      "source": [
        "Thanks for reading :)"
      ],
      "metadata": {
        "id": "ifZ0lFMQwH4c"
      }
    }
  ]
}